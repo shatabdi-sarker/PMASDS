{
  "nbformat": 4,
  "nbformat_minor": 0,
  "metadata": {
    "colab": {
      "provenance": [],
      "authorship_tag": "ABX9TyOrf0slW4qwfCk9UMJyIqPi",
      "include_colab_link": true
    },
    "kernelspec": {
      "name": "python3",
      "display_name": "Python 3"
    },
    "language_info": {
      "name": "python"
    }
  },
  "cells": [
    {
      "cell_type": "markdown",
      "metadata": {
        "id": "view-in-github",
        "colab_type": "text"
      },
      "source": [
        "<a href=\"https://colab.research.google.com/github/shatabdi-sarker/PMASDS/blob/main/ass01.ipynb\" target=\"_parent\"><img src=\"https://colab.research.google.com/assets/colab-badge.svg\" alt=\"Open In Colab\"/></a>"
      ]
    },
    {
      "cell_type": "markdown",
      "source": [
        "JU PMASDS Data Science **Assignment** 1,\n",
        "\n",
        "Course: WMASDS04-Introduction to Data Science with Python\n",
        "\n",
        "Instructor: **Farhana Afrin Duty**,\n",
        "              Department of Statistics, \n",
        "              Jahangirnagar University \n",
        "\n",
        "---\n",
        "\n"
      ],
      "metadata": {
        "id": "dYlx6qLXDsh-"
      }
    },
    {
      "cell_type": "markdown",
      "source": [
        "**variables**\n",
        "\n",
        "---\n",
        "\n"
      ],
      "metadata": {
        "id": "Y_1nIqzwHFIx"
      }
    },
    {
      "cell_type": "code",
      "source": [
        "# a input fun ()\n",
        "x= float (input(\"type a num : \"))\n"
      ],
      "metadata": {
        "id": "xjF7UAlqy9Oe",
        "colab": {
          "base_uri": "https://localhost:8080/"
        },
        "outputId": "337cadd2-153c-4d35-8ea6-e0dd8023db71"
      },
      "execution_count": 14,
      "outputs": [
        {
          "name": "stdout",
          "output_type": "stream",
          "text": [
            "type a num : 3.3\n"
          ]
        }
      ]
    },
    {
      "cell_type": "code",
      "source": [
        "# type of x\n",
        "type (x)\n"
      ],
      "metadata": {
        "id": "BvdgXR600Pfv",
        "colab": {
          "base_uri": "https://localhost:8080/"
        },
        "outputId": "c051053c-0291-425f-d907-370246f6a081"
      },
      "execution_count": 17,
      "outputs": [
        {
          "output_type": "execute_result",
          "data": {
            "text/plain": [
              "float"
            ]
          },
          "metadata": {},
          "execution_count": 17
        }
      ]
    },
    {
      "cell_type": "code",
      "source": [
        "# c converting to another type\n",
        "y= int (x)\n",
        "print(y)\n",
        "type (y) #explicit typecasting"
      ],
      "metadata": {
        "id": "A5OSkewr0cyL",
        "colab": {
          "base_uri": "https://localhost:8080/"
        },
        "outputId": "f04f0a04-89df-435f-8644-81064600ba60"
      },
      "execution_count": 18,
      "outputs": [
        {
          "output_type": "stream",
          "name": "stdout",
          "text": [
            "3\n"
          ]
        },
        {
          "output_type": "execute_result",
          "data": {
            "text/plain": [
              "int"
            ]
          },
          "metadata": {},
          "execution_count": 18
        }
      ]
    },
    {
      "cell_type": "code",
      "source": [
        "# d conversion intp float\n",
        "z = float(y)\n",
        "print(z)\n",
        "type(z)\n"
      ],
      "metadata": {
        "id": "2OZcZ-Fr00-A",
        "colab": {
          "base_uri": "https://localhost:8080/"
        },
        "outputId": "a4f38896-e887-4746-aa39-89d7dd7b6b87"
      },
      "execution_count": 19,
      "outputs": [
        {
          "output_type": "stream",
          "name": "stdout",
          "text": [
            "3.0\n"
          ]
        },
        {
          "output_type": "execute_result",
          "data": {
            "text/plain": [
              "float"
            ]
          },
          "metadata": {},
          "execution_count": 19
        }
      ]
    },
    {
      "cell_type": "code",
      "source": [
        "# e dispplay data type\n",
        "type (z)"
      ],
      "metadata": {
        "id": "V0YqJuPu1KMt",
        "colab": {
          "base_uri": "https://localhost:8080/"
        },
        "outputId": "c8dc2964-bf00-42a3-a344-edca91cf61a4"
      },
      "execution_count": 20,
      "outputs": [
        {
          "output_type": "execute_result",
          "data": {
            "text/plain": [
              "float"
            ]
          },
          "metadata": {},
          "execution_count": 20
        }
      ]
    },
    {
      "cell_type": "markdown",
      "source": [
        "String"
      ],
      "metadata": {
        "id": "62oCTeFPuRHY"
      }
    },
    {
      "cell_type": "code",
      "source": [
        "\n",
        "# a calculating he lenght of string\n",
        "\n",
        "str = \"I Love JU\"\n",
        "len(str)"
      ],
      "metadata": {
        "colab": {
          "base_uri": "https://localhost:8080/"
        },
        "id": "BvCnTa6fuTRO",
        "outputId": "431ac653-1df4-4ce8-9f67-91be67efd5d7"
      },
      "execution_count": null,
      "outputs": [
        {
          "output_type": "execute_result",
          "data": {
            "text/plain": [
              "9"
            ]
          },
          "metadata": {},
          "execution_count": 1
        }
      ]
    },
    {
      "cell_type": "code",
      "source": [
        "# b count the number of the string\n",
        "\n",
        "x= str.count(\"I Love JU\")\n",
        "print (x)"
      ],
      "metadata": {
        "colab": {
          "base_uri": "https://localhost:8080/"
        },
        "id": "Xzm8DsTdyKJT",
        "outputId": "0ff65d73-d0cf-409b-88e3-665130d27268"
      },
      "execution_count": null,
      "outputs": [
        {
          "output_type": "stream",
          "name": "stdout",
          "text": [
            "1\n"
          ]
        }
      ]
    },
    {
      "cell_type": "code",
      "source": [
        "# c indexing and slicing\n",
        "\n",
        "print (str [7:])\n",
        "print (str [0:6])"
      ],
      "metadata": {
        "colab": {
          "base_uri": "https://localhost:8080/"
        },
        "id": "q_T_5bb_zlnc",
        "outputId": "fad916a8-8bce-4b9e-943c-b2f11a1a2693"
      },
      "execution_count": null,
      "outputs": [
        {
          "output_type": "stream",
          "name": "stdout",
          "text": [
            "JU\n",
            "I Love\n",
            "JU\n",
            "I Love\n"
          ]
        }
      ]
    },
    {
      "cell_type": "code",
      "source": [
        "# d \n",
        "new_str = \"\"\n",
        "for i in range (len(str)):\n",
        "  if (i%2==0):\n",
        "    new_str = new_str + str [i]\n",
        "\n",
        "print (new_str)"
      ],
      "metadata": {
        "colab": {
          "base_uri": "https://localhost:8080/"
        },
        "id": "bt5vd66tv28b",
        "outputId": "db6bd012-5b32-4163-e839-ce70cbfdd786"
      },
      "execution_count": null,
      "outputs": [
        {
          "output_type": "stream",
          "name": "stdout",
          "text": [
            "ILv U\n"
          ]
        }
      ]
    },
    {
      "cell_type": "code",
      "source": [
        "# e taking input and manupulate in Uper Lower\n",
        "\n",
        "txt = input(\"type anything here : \")\n",
        "print (txt)\n",
        "print (txt.upper())\n",
        "print (txt.lower())"
      ],
      "metadata": {
        "colab": {
          "base_uri": "https://localhost:8080/"
        },
        "id": "6APbtw0FDBsh",
        "outputId": "c0bdad78-8d4f-4567-f94c-c41e84ab80b9"
      },
      "execution_count": null,
      "outputs": [
        {
          "output_type": "stream",
          "name": "stdout",
          "text": [
            "type anything here : luiccha\n",
            "luiccha\n",
            "LUICCHA\n",
            "luiccha\n"
          ]
        }
      ]
    },
    {
      "cell_type": "code",
      "source": [
        "\n",
        "# f sort string\n",
        "\n",
        "str = \"462367\"\n",
        "sorted_str= sorted(str)\n",
        "\n",
        "print (sorted_str)"
      ],
      "metadata": {
        "colab": {
          "base_uri": "https://localhost:8080/"
        },
        "id": "nPkUBTb49oQk",
        "outputId": "b147dec6-803c-46d6-e860-2ff7d64cf4b9"
      },
      "execution_count": null,
      "outputs": [
        {
          "output_type": "stream",
          "name": "stdout",
          "text": [
            "[1, 2, 6, 7, 9, 10]\n"
          ]
        }
      ]
    },
    {
      "cell_type": "code",
      "source": [
        "# g reverse string\n",
        "str =\"I love Python\"\n",
        "\n",
        "print(str[::-1])\n"
      ],
      "metadata": {
        "colab": {
          "base_uri": "https://localhost:8080/"
        },
        "id": "bRuKPDv0AVxq",
        "outputId": "7bd31d99-804f-491d-faff-4134c887fd03"
      },
      "execution_count": null,
      "outputs": [
        {
          "output_type": "stream",
          "name": "stdout",
          "text": [
            "nohtyP evol I\n"
          ]
        }
      ]
    },
    {
      "cell_type": "code",
      "source": [
        "#h Convert a given string into a list\n",
        "\n",
        "def convert (str):\n",
        "  new_list= list(str.split(\" \"))\n",
        "  return new_list\n",
        "\n",
        "\n",
        "str =\"JU has a Beautiful Campus\"\n",
        "print (convert(str))\n"
      ],
      "metadata": {
        "colab": {
          "base_uri": "https://localhost:8080/"
        },
        "id": "M-OMp7QeDade",
        "outputId": "af01cdb1-fd23-4178-c1b2-6166b727f9fa"
      },
      "execution_count": null,
      "outputs": [
        {
          "output_type": "stream",
          "name": "stdout",
          "text": [
            "['JU', 'has', 'a', 'Beautiful', 'Campus']\n"
          ]
        }
      ]
    },
    {
      "cell_type": "markdown",
      "source": [
        "List"
      ],
      "metadata": {
        "id": "3dUUZMZXIMPc"
      }
    },
    {
      "cell_type": "code",
      "source": [
        "# a sum all the item in the list\n",
        "\n",
        "lst = [1, 2, 4, -2]\n",
        "def sum_list(lst):\n",
        "  sum = 0\n",
        "  for i in lst:\n",
        "    sum += i\n",
        "  return sum\n",
        "\n",
        "print (sum_list(lst))\n"
      ],
      "metadata": {
        "colab": {
          "base_uri": "https://localhost:8080/"
        },
        "id": "UzGN0GPzIRoO",
        "outputId": "c5c70949-5f29-42bb-ac80-a3c0bcca9897"
      },
      "execution_count": null,
      "outputs": [
        {
          "output_type": "stream",
          "name": "stdout",
          "text": [
            "5\n"
          ]
        }
      ]
    },
    {
      "cell_type": "code",
      "source": [
        "# b get the largest/smallest number from a list\n",
        "\n",
        "lst = [1, 3, 3, 5, 8, 0]\n",
        "\n",
        "print( \"Max Value is\", max(lst))\n",
        "print( \"Min value is\", min(lst))\n",
        "\n"
      ],
      "metadata": {
        "colab": {
          "base_uri": "https://localhost:8080/"
        },
        "id": "dxrgK-OEMhne",
        "outputId": "e3dd4b4a-4c47-4458-d468-05aa8d51b91e"
      },
      "execution_count": null,
      "outputs": [
        {
          "output_type": "stream",
          "name": "stdout",
          "text": [
            "Max Value is 8\n",
            "Min value is 0\n"
          ]
        }
      ]
    },
    {
      "cell_type": "code",
      "source": [
        "# c list after removing even number\n",
        "\n",
        "lst =[2, 4, 6, 5, 9, 8]\n",
        "new_list= []\n",
        "for i in lst:\n",
        "  if (i%2 != 0): \n",
        "    new_list.append(i)\n",
        "print(new_list)"
      ],
      "metadata": {
        "colab": {
          "base_uri": "https://localhost:8080/"
        },
        "id": "5ABH3aZdP35V",
        "outputId": "7973ffe1-e449-4ed5-a260-0ecc3b035c22"
      },
      "execution_count": null,
      "outputs": [
        {
          "output_type": "stream",
          "name": "stdout",
          "text": [
            "[5, 9]\n"
          ]
        }
      ]
    },
    {
      "cell_type": "code",
      "source": [
        "# d list odd number\n",
        "\n",
        "lst =[2, 4, 6, 5, 9, 8]\n",
        "new_list= []\n",
        "for i in lst:\n",
        "  if (i%2 != 0): \n",
        "    new_list.append(i)\n",
        "print(new_list)"
      ],
      "metadata": {
        "colab": {
          "base_uri": "https://localhost:8080/"
        },
        "id": "5xxZRhOISNdA",
        "outputId": "8d47f10d-50e5-4622-b18c-a00ff9e684eb"
      },
      "execution_count": null,
      "outputs": [
        {
          "output_type": "stream",
          "name": "stdout",
          "text": [
            "[5, 9]\n"
          ]
        }
      ]
    },
    {
      "cell_type": "code",
      "source": [
        "# e converting a list into string\n",
        "\n",
        "lst= [\"Cousin\", \"Babli\", \"Silvi\", \"ila\", \"Puja\", \"subhasree\", \"Khukumoni\", \"Eka\"]\n",
        "\n",
        "test_str= \"\" #extra string as container\n",
        "str = test_str.join(lst) # str=\"\".join(lst)\n",
        "print(str)"
      ],
      "metadata": {
        "colab": {
          "base_uri": "https://localhost:8080/"
        },
        "id": "NkEGtX7ETscQ",
        "outputId": "a991df2e-b394-40ce-b30d-12191b927ec3"
      },
      "execution_count": null,
      "outputs": [
        {
          "output_type": "stream",
          "name": "stdout",
          "text": [
            "CousinBabliSilviilaPujasubhasreeKhukumoniEka\n"
          ]
        }
      ]
    },
    {
      "cell_type": "code",
      "source": [
        "# f find the index of an item in a list\n",
        "print(lst)\n",
        "print(lst.index(\"Eka\"))"
      ],
      "metadata": {
        "colab": {
          "base_uri": "https://localhost:8080/"
        },
        "id": "KNE0Hd8WX4G7",
        "outputId": "e21c8c11-77f2-4944-8a9b-6b6634a2c337"
      },
      "execution_count": null,
      "outputs": [
        {
          "output_type": "stream",
          "name": "stdout",
          "text": [
            "['Cousin', 'Babli', 'Silvi', 'ila', 'Puja', 'subhasree', 'Khukumoni', 'Eka']\n",
            "7\n"
          ]
        }
      ]
    },
    {
      "cell_type": "code",
      "source": [
        "# g adding two list\n",
        "print(lst)\n",
        "lst_2nd =[\"Koushik\", \"Shourav\"]\n",
        "print (lst_2nd)\n",
        "final_list= lst+lst_2nd\n",
        "print (final_list)"
      ],
      "metadata": {
        "colab": {
          "base_uri": "https://localhost:8080/"
        },
        "id": "lxJZAGaCZgog",
        "outputId": "afaa4702-e166-4685-da19-42322a369376"
      },
      "execution_count": null,
      "outputs": [
        {
          "output_type": "stream",
          "name": "stdout",
          "text": [
            "['Cousin', 'Babli', 'Silvi', 'ila', 'Puja', 'subhasree', 'Khukumoni', 'Eka']\n",
            "['Koushik', 'Shourav']\n",
            "['Cousin', 'Babli', 'Silvi', 'ila', 'Puja', 'subhasree', 'Khukumoni', 'Eka', 'Koushik', 'Shourav']\n"
          ]
        }
      ]
    },
    {
      "cell_type": "code",
      "source": [
        "# h unique list\n",
        "lst = [2,3,4,6,7,5,4,3,9,1]\n",
        "\n",
        "def unique(lst):\n",
        "  unique_list = []\n",
        "\n",
        "  for x in lst:\n",
        "    if x not in unique_list:\n",
        "      unique_list.append(x)\n",
        "      print (unique_list)\n",
        "\n",
        "  for x in unique_list:\n",
        "      print(x)\n",
        "        \n",
        "print(\"the unique list is : \") \n",
        "unique(lst)\n",
        "\n",
        "\n",
        "\n",
        " "
      ],
      "metadata": {
        "colab": {
          "base_uri": "https://localhost:8080/"
        },
        "id": "Nq1kDJzRRzwN",
        "outputId": "0ce4004a-0d3c-48f5-be55-a764a12cb673"
      },
      "execution_count": null,
      "outputs": [
        {
          "output_type": "stream",
          "name": "stdout",
          "text": [
            "the unique list is : \n",
            "[2]\n",
            "[2, 3]\n",
            "[2, 3, 4]\n",
            "[2, 3, 4, 6]\n",
            "[2, 3, 4, 6, 7]\n",
            "[2, 3, 4, 6, 7, 5]\n",
            "[2, 3, 4, 6, 7, 5, 9]\n",
            "[2, 3, 4, 6, 7, 5, 9, 1]\n",
            "2\n",
            "3\n",
            "4\n",
            "6\n",
            "7\n",
            "5\n",
            "9\n",
            "1\n"
          ]
        }
      ]
    },
    {
      "cell_type": "code",
      "source": [
        "# i_frequency greater than k\n",
        "\n",
        "test_list = [4, 6, 4, 3, 3, 4, 3, 7, 8, 8]\n",
        "\n",
        "k = 2\n",
        "\n",
        "res = []\n",
        "\n",
        "for i in test_list:\n",
        "  freq = test_list.count(i)\n",
        "\n",
        "  if freq > k and i not in res:\n",
        "    res.append(i)\n",
        "\n",
        "print(\"required elements : \", (res))"
      ],
      "metadata": {
        "colab": {
          "base_uri": "https://localhost:8080/"
        },
        "id": "elYGMRNPXbU1",
        "outputId": "61c876dc-770a-4491-80ec-f6a5dd887f5d"
      },
      "execution_count": null,
      "outputs": [
        {
          "output_type": "stream",
          "name": "stdout",
          "text": [
            "required elements :  [4, 3]\n"
          ]
        }
      ]
    },
    {
      "cell_type": "code",
      "source": [
        "# j_reversing a sting list\n",
        "\n",
        "test_list = [\"life\", \"is\", \"too\", \"short\"]\n",
        " \n",
        "# printing original list\n",
        "print (\"The original list is : \", (test_list))\n",
        " \n",
        "# Reverse All Strings in String List\n",
        "res = [i[::-1] for i in test_list]\n",
        " \n",
        "# printing result\n",
        "print (\"The reversed string list is : \", (res))"
      ],
      "metadata": {
        "colab": {
          "base_uri": "https://localhost:8080/"
        },
        "id": "m18_lCYNZDRu",
        "outputId": "70fbbac8-ec8e-4119-dd18-3b84287d8b31"
      },
      "execution_count": null,
      "outputs": [
        {
          "output_type": "stream",
          "name": "stdout",
          "text": [
            "The original list is :  ['life', 'is', 'too', 'short']\n",
            "The reversed string list is :  ['efil', 'si', 'oot', 'trohs']\n"
          ]
        }
      ]
    },
    {
      "cell_type": "markdown",
      "source": [
        "Dictionary"
      ],
      "metadata": {
        "id": "WPYPOgRVZqME"
      }
    },
    {
      "cell_type": "code",
      "source": [],
      "metadata": {
        "id": "4PcuoKtiSWFu"
      },
      "execution_count": null,
      "outputs": []
    },
    {
      "cell_type": "code",
      "source": [
        "# a creating a dictionary\n",
        "my_dict = {\"name\": [\"mango\", \"lemon\"],\n",
        "           \"color\": [\"yewllo\",\"green\"],\n",
        "           \"taste\":[\"sweet\", \"sour\"]}\n",
        "print (my_dict)\n",
        "\n",
        "my_dict[\"name\"].append(\"apple\")\n",
        "print (my_dict)\n",
        "\n"
      ],
      "metadata": {
        "colab": {
          "base_uri": "https://localhost:8080/"
        },
        "id": "b1SUA6N1ZtJu",
        "outputId": "c4239129-68e3-49e8-a74f-5c2bc799e3d9"
      },
      "execution_count": null,
      "outputs": [
        {
          "output_type": "stream",
          "name": "stdout",
          "text": [
            "{'name': ['mango', 'lemon'], 'color': ['yewllo', 'green'], 'taste': ['sweet', 'sour']}\n",
            "{'name': ['mango', 'lemon', 'apple'], 'color': ['yewllo', 'green'], 'taste': ['sweet', 'sour']}\n"
          ]
        }
      ]
    },
    {
      "cell_type": "code",
      "source": [
        "# b add a new key \n",
        "my_dict[\"availabiliy\"]= \"Mohbazar\"\n",
        "print (my_dict)"
      ],
      "metadata": {
        "colab": {
          "base_uri": "https://localhost:8080/"
        },
        "id": "HuTwL8SNSYsL",
        "outputId": "f7793e47-bcb3-4c31-c625-2fa939760b08"
      },
      "execution_count": null,
      "outputs": [
        {
          "output_type": "stream",
          "name": "stdout",
          "text": [
            "{'name': ['mango', 'lemon', 'apple'], 'color': ['yewllo', 'green'], 'taste': ['sweet', 'sour'], 'availabiliy': 'Mohbazar'}\n"
          ]
        }
      ]
    },
    {
      "cell_type": "code",
      "source": [
        "# c_key exist or not\n",
        "\n",
        "\n",
        "#user defied fun()\n",
        "def check_key(my_dict, key):\n",
        "  if key in my_dict.keys():\n",
        "    print(\"present in dictionary. operation successful\")\n",
        "  else:\n",
        "    print(\"not present in the dictionary. operation denied\")\n",
        "\n",
        "#driver fun()\n",
        "key = 'color'\n",
        "check_key(my_dict, key)\n",
        "\n",
        "key = 'price'\n",
        "check_key(my_dict, key)"
      ],
      "metadata": {
        "colab": {
          "base_uri": "https://localhost:8080/"
        },
        "id": "8E-x5fi6Sf5P",
        "outputId": "91bf4b28-27f1-4092-916e-57fce7095951"
      },
      "execution_count": null,
      "outputs": [
        {
          "output_type": "stream",
          "name": "stdout",
          "text": [
            "present in dictionary. operation successful\n",
            "not present in the dictionary. operation denied\n"
          ]
        }
      ]
    },
    {
      "cell_type": "code",
      "source": [
        "# d accessing my index num\n",
        "\n",
        "print(list(my_dict)[0])\n",
        "print(list(my_dict)[1])\n",
        "print(list(my_dict)[2])\n",
        "print(list(my_dict)[3])"
      ],
      "metadata": {
        "colab": {
          "base_uri": "https://localhost:8080/"
        },
        "id": "TGnrGbsXWQ8e",
        "outputId": "610374fb-1b60-4d9d-915f-c247fe19feaf"
      },
      "execution_count": null,
      "outputs": [
        {
          "output_type": "stream",
          "name": "stdout",
          "text": [
            "name\n",
            "color\n",
            "taste\n",
            "availabiliy\n"
          ]
        }
      ]
    },
    {
      "cell_type": "code",
      "source": [
        "# e_dictionary using loop\n",
        "\n",
        "print(\"lists of keys: \")\n",
        "\n",
        "for keys in my_dict.keys():\n",
        "  print(keys)\n",
        "\n",
        "\n",
        "print(\"lists of values: \")\n",
        "\n",
        "for values in my_dict.values():\n",
        "  print(values)"
      ],
      "metadata": {
        "colab": {
          "base_uri": "https://localhost:8080/"
        },
        "id": "BJHc0bQQXNcB",
        "outputId": "7b65ca34-2e62-4092-9aad-f000455e1bd3"
      },
      "execution_count": null,
      "outputs": [
        {
          "output_type": "stream",
          "name": "stdout",
          "text": [
            "lists of keys: \n",
            "name\n",
            "color\n",
            "taste\n",
            "availabiliy\n",
            "lists of values: \n",
            "['mango', 'lemon', 'apple']\n",
            "['yewllo', 'green']\n",
            "['sweet', 'sour']\n",
            "Mohbazar\n"
          ]
        }
      ]
    },
    {
      "cell_type": "code",
      "source": [
        "# f_keys & the values is doubled of keys\n",
        "\n",
        "new_dict = dict()\n",
        "for i in range(1, 10):\n",
        "  new_dict[i] = i**2\n",
        "print(new_dict)"
      ],
      "metadata": {
        "colab": {
          "base_uri": "https://localhost:8080/"
        },
        "id": "Fexj54rlvCzG",
        "outputId": "d615d901-675b-4a3b-d79d-8871953851f1"
      },
      "execution_count": null,
      "outputs": [
        {
          "output_type": "stream",
          "name": "stdout",
          "text": [
            "{1: 1, 2: 4, 3: 9, 4: 16, 5: 25, 6: 36, 7: 49, 8: 64, 9: 81}\n"
          ]
        }
      ]
    },
    {
      "cell_type": "code",
      "source": [
        "# g_extracting keys into a new dictionary\n",
        "\n",
        "print(my_dict)\n",
        "\n",
        "keys = ['name', 'color', 'taste']\n",
        "\n",
        "new_dict = {i : my_dict[i] for i in keys}\n",
        "\n",
        "print(new_dict)"
      ],
      "metadata": {
        "colab": {
          "base_uri": "https://localhost:8080/"
        },
        "id": "NxL7ffEewSy_",
        "outputId": "359e9d73-13e9-4246-f6b1-dce5a792a1f1"
      },
      "execution_count": null,
      "outputs": [
        {
          "output_type": "stream",
          "name": "stdout",
          "text": [
            "{'name': ['mango', 'lemon', 'apple'], 'color': ['yewllo', 'green'], 'taste': ['sweet', 'sour'], 'availabiliy': 'Mohbazar'}\n",
            "{'name': ['mango', 'lemon', 'apple'], 'color': ['yewllo', 'green'], 'taste': ['sweet', 'sour']}\n"
          ]
        }
      ]
    },
    {
      "cell_type": "code",
      "source": [
        "# h_rename keys in dictionary\n",
        "\n",
        "print(new_dict)\n",
        "\n",
        "new_dict['new_name'] = new_dict.pop('name') \n",
        "\n",
        "print(new_dict)"
      ],
      "metadata": {
        "colab": {
          "base_uri": "https://localhost:8080/"
        },
        "id": "RV53dQ6dyOPp",
        "outputId": "0ba22c0c-1060-48cd-d410-825c368766ee"
      },
      "execution_count": null,
      "outputs": [
        {
          "output_type": "stream",
          "name": "stdout",
          "text": [
            "{'name': ['mango', 'lemon', 'apple'], 'color': ['yewllo', 'green'], 'taste': ['sweet', 'sour']}\n",
            "{'color': ['yewllo', 'green'], 'taste': ['sweet', 'sour'], 'new_name': ['mango', 'lemon', 'apple']}\n"
          ]
        }
      ]
    },
    {
      "cell_type": "code",
      "source": [
        "# i_print only keys\n",
        "\n",
        "print(list(new_dict)[0])\n",
        "print(list(new_dict)[1])\n",
        "print(list(new_dict)[2])\n",
        "\n",
        "# or\n",
        "\n",
        "for values in new_dict.keys():\n",
        "  print(keys)"
      ],
      "metadata": {
        "colab": {
          "base_uri": "https://localhost:8080/"
        },
        "id": "YH7lwHLEyyWw",
        "outputId": "c7f5c39d-12e4-4a86-8005-dcd16215511c"
      },
      "execution_count": null,
      "outputs": [
        {
          "output_type": "stream",
          "name": "stdout",
          "text": [
            "color\n",
            "taste\n",
            "new_name\n",
            "['name', 'color', 'taste']\n",
            "['name', 'color', 'taste']\n",
            "['name', 'color', 'taste']\n"
          ]
        }
      ]
    },
    {
      "cell_type": "code",
      "source": [
        "# j_print only values\n",
        "\n",
        "for values in new_dict.values():\n",
        "  print(values)"
      ],
      "metadata": {
        "colab": {
          "base_uri": "https://localhost:8080/"
        },
        "id": "DL-jzvbizAx2",
        "outputId": "f55cb844-d68f-4ce0-e88e-3ce22c0fa12a"
      },
      "execution_count": null,
      "outputs": [
        {
          "output_type": "stream",
          "name": "stdout",
          "text": [
            "['yewllo', 'green']\n",
            "['sweet', 'sour']\n",
            "['mango', 'lemon', 'apple']\n"
          ]
        }
      ]
    },
    {
      "cell_type": "markdown",
      "source": [
        "Loop"
      ],
      "metadata": {
        "id": "waQqzTx12WXa"
      }
    },
    {
      "cell_type": "code",
      "source": [
        "# a_numbers using while loop\n",
        "\n",
        "num = 10\n",
        "i = 0\n",
        "\n",
        "while i <= num:\n",
        "  print(i)\n",
        "  i += 1"
      ],
      "metadata": {
        "colab": {
          "base_uri": "https://localhost:8080/"
        },
        "id": "FmrPz-RI206G",
        "outputId": "5e832869-918d-48d2-c517-efa0bf817835"
      },
      "execution_count": null,
      "outputs": [
        {
          "output_type": "stream",
          "name": "stdout",
          "text": [
            "0\n",
            "1\n",
            "2\n",
            "3\n",
            "4\n",
            "5\n",
            "6\n",
            "7\n",
            "8\n",
            "9\n",
            "10\n"
          ]
        }
      ]
    },
    {
      "cell_type": "code",
      "source": [
        "# b_multiplication table\n",
        "\n",
        "num = 12\n",
        "\n",
        "for i in range (1,10):\n",
        "  print(num, 'X', i, \"=\", num*i)"
      ],
      "metadata": {
        "colab": {
          "base_uri": "https://localhost:8080/"
        },
        "id": "QRJjomaX27pv",
        "outputId": "8f93dc58-df4f-408b-bc8d-6172ac0eb097"
      },
      "execution_count": null,
      "outputs": [
        {
          "output_type": "stream",
          "name": "stdout",
          "text": [
            "12 X 1 = 12\n",
            "12 X 2 = 24\n",
            "12 X 3 = 36\n",
            "12 X 4 = 48\n",
            "12 X 5 = 60\n",
            "12 X 6 = 72\n",
            "12 X 7 = 84\n",
            "12 X 8 = 96\n",
            "12 X 9 = 108\n"
          ]
        }
      ]
    },
    {
      "cell_type": "code",
      "source": [
        "# c_numbers using loop\n",
        "\n",
        "lst = [2, 4, 6, 9, 5, 3, 11, 17, 23, 27, 30]\n",
        "\n",
        "for i in lst:\n",
        "  print(i)"
      ],
      "metadata": {
        "colab": {
          "base_uri": "https://localhost:8080/"
        },
        "id": "2S4P2hhX2-jj",
        "outputId": "0b4fdf49-4aff-408f-97b8-4b49805983c9"
      },
      "execution_count": null,
      "outputs": [
        {
          "output_type": "stream",
          "name": "stdout",
          "text": [
            "2\n",
            "4\n",
            "6\n",
            "9\n",
            "5\n",
            "3\n",
            "11\n",
            "17\n",
            "23\n",
            "27\n",
            "30\n"
          ]
        }
      ]
    },
    {
      "cell_type": "code",
      "source": [
        "# d_reverse list using loop\n",
        "\n",
        "num_list=[1,2,3,4,5]\n",
        "# new reversed list using as a container\n",
        "new_list=[]          \n",
        "for i in range(len(num_list)):\n",
        "    new_list.insert(i,num_list[-1])\n",
        "    num_list.pop(-1)\n",
        "    #see how loops are iterating\n",
        "    print(new_list)       \n",
        "\n",
        "\n",
        "print(\"so the final list is : \", new_list)"
      ],
      "metadata": {
        "colab": {
          "base_uri": "https://localhost:8080/"
        },
        "id": "07Qg4Xxe3Gs7",
        "outputId": "4f41e713-4f4e-4754-a351-2b12e8120e96"
      },
      "execution_count": null,
      "outputs": [
        {
          "output_type": "stream",
          "name": "stdout",
          "text": [
            "[5]\n",
            "[5, 4]\n",
            "[5, 4, 3]\n",
            "[5, 4, 3, 2]\n",
            "[5, 4, 3, 2, 1]\n",
            "so the final list is :  [5, 4, 3, 2, 1]\n"
          ]
        }
      ]
    },
    {
      "cell_type": "code",
      "source": [
        "# f_factorial of given number using recursion fun()\n",
        "\n",
        "num = int(input(\"Enter a number: \"))\n",
        "Fact = 1\n",
        "for i in range(1, num + 1):\n",
        "    Fact = Fact * i\n",
        "print(\"The Factorial of\",num,\"is\",Fact)"
      ],
      "metadata": {
        "colab": {
          "base_uri": "https://localhost:8080/"
        },
        "id": "NcegqS813Nzg",
        "outputId": "15d9322f-173e-4770-e27d-22bf863f006a"
      },
      "execution_count": null,
      "outputs": [
        {
          "output_type": "stream",
          "name": "stdout",
          "text": [
            "Enter a number: 12\n",
            "The Factorial of 12 is 479001600\n"
          ]
        }
      ]
    },
    {
      "cell_type": "code",
      "source": [
        "# g_elements off odd index list\n",
        "\n",
        "num_list = [2, 5, 8, 9, 11, 12, 17, 20]\n",
        "\n",
        "for i in range(1, len(num_list), 2):      #     ??? why is this condition ???\n",
        "\n",
        "  print(num_list[i])"
      ],
      "metadata": {
        "colab": {
          "base_uri": "https://localhost:8080/"
        },
        "id": "hHVr9f4Z-yNH",
        "outputId": "0cef250b-cd01-4256-d3cd-9dd4909e3488"
      },
      "execution_count": null,
      "outputs": [
        {
          "output_type": "stream",
          "name": "stdout",
          "text": [
            "5\n",
            "9\n",
            "12\n",
            "20\n"
          ]
        }
      ]
    },
    {
      "cell_type": "code",
      "source": [
        "# h_cube root using loop\n",
        "regno = int(input('enter the limit '))\n",
        "\n",
        "i = 1\n",
        "\n",
        "while i <= regno: \n",
        "  cube = 0 \n",
        "  cube = i * i * i\n",
        "  print(\"cube of %d is : %d\" %(i, cube))\n",
        "  i = i + 1"
      ],
      "metadata": {
        "colab": {
          "base_uri": "https://localhost:8080/"
        },
        "id": "zyDxaabowDdB",
        "outputId": "ba62ca85-b229-4010-cb68-3d74daa8b87e"
      },
      "execution_count": null,
      "outputs": [
        {
          "output_type": "stream",
          "name": "stdout",
          "text": [
            "enter the limit 10\n",
            "cube of 1 is : 1\n",
            "cube of 2 is : 8\n",
            "cube of 3 is : 27\n",
            "cube of 4 is : 64\n",
            "cube of 5 is : 125\n",
            "cube of 6 is : 216\n",
            "cube of 7 is : 343\n",
            "cube of 8 is : 512\n",
            "cube of 9 is : 729\n",
            "cube of 10 is : 1000\n"
          ]
        }
      ]
    },
    {
      "cell_type": "markdown",
      "source": [
        "User define function\n"
      ],
      "metadata": {
        "id": "sDZXOkflwUNY"
      }
    },
    {
      "cell_type": "code",
      "source": [
        "# returning my unique class ID using user define function\n",
        "nums = [2,0,2,3,1,0,7,2]\n",
        "def uniq_num(nums):\n",
        "  uniq = []\n",
        "  for i in nums:\n",
        "    if i in uniq:\n",
        "      continue\n",
        "    else:\n",
        "      uniq.append(i)  \n",
        "  return uniq\n",
        "print (uniq_num(nums))\n"
      ],
      "metadata": {
        "colab": {
          "base_uri": "https://localhost:8080/"
        },
        "id": "fLjfW_dcwc9N",
        "outputId": "c6c7968a-12b3-44a0-d0e3-46aadbddd489"
      },
      "execution_count": null,
      "outputs": [
        {
          "output_type": "stream",
          "name": "stdout",
          "text": [
            "[2, 0, 3, 1, 7]\n"
          ]
        }
      ]
    }
  ]
}